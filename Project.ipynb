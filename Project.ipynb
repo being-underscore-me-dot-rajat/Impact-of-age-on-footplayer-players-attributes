{
 "cells": [
  {
   "cell_type": "markdown",
   "metadata": {},
   "source": [
    "# Importing relevant libraries"
   ]
  },
  {
   "cell_type": "code",
   "execution_count": null,
   "metadata": {},
   "outputs": [],
   "source": [
    "import pandas as pd\n",
    "import seaborn as sns\n",
    "import tkinter as ttk\n",
    "import numpy as np\n",
    "from tkinter import *\n",
    "import matplotlib.pyplot as plt\n",
    "from PIL import ImageTk,Image"
   ]
  },
  {
   "cell_type": "markdown",
   "metadata": {},
   "source": [
    "### Importing the dataset"
   ]
  },
  {
   "cell_type": "code",
   "execution_count": null,
   "metadata": {},
   "outputs": [],
   "source": [
    "ds=pd.read_csv('players_22.csv')"
   ]
  },
  {
   "cell_type": "markdown",
   "metadata": {},
   "source": [
    "### Removing unwanted columns"
   ]
  },
  {
   "cell_type": "code",
   "execution_count": null,
   "metadata": {},
   "outputs": [],
   "source": [
    "drop_cols=['sofifa_id', 'player_url', 'short_name', 'long_name', 'height_cm', 'weight_kg',\n",
    "       'player_positions', 'overall', 'potential', 'value_eur', 'wage_eur','lcb', 'cb', 'rcb', 'rb', 'gk', 'player_face_url', 'club_logo_url',\n",
    "       'club_flag_url', 'nation_logo_url', 'nation_flag_url','ls', 'st', 'rs', 'lw', 'lf', 'cf', 'rf', 'rw', 'lam', 'cam', 'ram',\n",
    "       'lm', 'lcm', 'cm', 'rcm', 'rm', 'lwb', 'ldm', 'cdm', 'rdm', 'rwb',\n",
    "       'lb','club_team_id', 'club_name',\n",
    "       'league_name', 'league_level', 'club_position', 'club_jersey_number',\n",
    "       'club_loaned_from', 'club_joined', 'club_contract_valid_until',\n",
    "       'nationality_id', 'nationality_name', 'nation_team_id',\n",
    "       'nation_position', 'nation_jersey_number', 'preferred_foot',\n",
    "       'weak_foot', 'skill_moves', 'international_reputation', 'work_rate',\n",
    "       'body_type', 'real_face', 'release_clause_eur', 'player_tags',\n",
    "       'player_traits','attacking_crossing', 'attacking_finishing',\n",
    "       'attacking_heading_accuracy','shooting','goalkeeping_diving', 'goalkeeping_handling', 'goalkeeping_kicking',\n",
    "       'goalkeeping_positioning', 'goalkeeping_reflexes', 'goalkeeping_speed','dob','defending','mentality_interceptions','movement_reactions','movement_balance']"
   ]
  },
  {
   "cell_type": "code",
   "execution_count": null,
   "metadata": {},
   "outputs": [],
   "source": [
    "ds.drop(drop_cols,axis=1,inplace=True)\n",
    "ds.dropna(inplace=True)"
   ]
  },
  {
   "cell_type": "markdown",
   "metadata": {},
   "source": [
    "### Modifying the main DataFrame according to our needs"
   ]
  },
  {
   "cell_type": "code",
   "execution_count": null,
   "metadata": {},
   "outputs": [],
   "source": [
    "ds.astype(int)\n",
    "sns.set(rc={'figure.figsize':(50,8)})"
   ]
  },
  {
   "cell_type": "markdown",
   "metadata": {},
   "source": [
    "### Removing Outliers which may impact our analysis"
   ]
  },
  {
   "cell_type": "code",
   "execution_count": null,
   "metadata": {},
   "outputs": [],
   "source": [
    "ds = ds[ds['age'] <= 35]\n",
    "ds = ds[ds['pace'] >= 50]\n",
    "ds = ds[ds['passing'] >= 50]"
   ]
  },
  {
   "cell_type": "markdown",
   "metadata": {},
   "source": [
    "### Grouping values on the basis of AGE(our target column)"
   ]
  },
  {
   "cell_type": "code",
   "execution_count": null,
   "metadata": {},
   "outputs": [],
   "source": [
    "q=ds.groupby('age').mean()\n",
    "q['age'] = q.index                                  #adding AGE as a column too\n",
    "q.astype(float)                                     #changing the datatype"
   ]
  },
  {
   "cell_type": "markdown",
   "metadata": {},
   "source": [
    "### Grouping Attributes based on their relatoinship with age"
   ]
  },
  {
   "cell_type": "code",
   "execution_count": null,
   "metadata": {},
   "outputs": [],
   "source": [
    "cols=q.columns.tolist()"
   ]
  },
  {
   "cell_type": "markdown",
   "metadata": {},
   "source": [
    "### Plotting Graphs for Attributes differentiated by their relationship with age"
   ]
  },
  {
   "cell_type": "code",
   "execution_count": null,
   "metadata": {},
   "outputs": [],
   "source": [
    "q.describe()"
   ]
  },
  {
   "cell_type": "markdown",
   "metadata": {},
   "source": [
    "### GUI DEVELOPMENT"
   ]
  },
  {
   "cell_type": "code",
   "execution_count": null,
   "metadata": {},
   "outputs": [],
   "source": [
    "app=ttk.Tk()"
   ]
  },
  {
   "cell_type": "code",
   "execution_count": null,
   "metadata": {},
   "outputs": [],
   "source": [
    "app.geometry('900x600')\n",
    "app.title('Impact of age on the attributes of footballl players')\n",
    "bg = PhotoImage(file = \"soccer_ball_football_lawn_121273_2560x1440.png\")\n",
    "\n",
    "# Create Canvas\n",
    "canvas1 = Canvas( app, width = 2560,\n",
    "\t\t\t\theight = 1440)\n",
    "\n",
    "canvas1.pack(fill = \"both\", expand = True)\n",
    "\n",
    "# Display image\n",
    "canvas1.create_image( 0, 0, image = bg,\n",
    "\t\t\t\t\tanchor = \"nw\")"
   ]
  },
  {
   "cell_type": "code",
   "execution_count": null,
   "metadata": {},
   "outputs": [],
   "source": [
    "graphs = ttk.Variable(app)\n",
    "\n",
    "values={'Data 1':'1', 'Data 2':'2'}\n",
    "values = {\n",
    "    \n",
    "    'Bar Plot':\"sns.barplot(data=q, x='{col1}',y='{col2}')\",\n",
    "    'Line Plot':\"sns.lineplot(data=q, x='{col1}',y='{col2}')\",\n",
    "    'Linear Relationship':\"sns.regplot(data=q,x='{col1}',y='{col2}')\"\n",
    "}\n",
    "\n",
    "graphs.set(values['Line Plot'])\n",
    "\n",
    "y = 20\n",
    "\n",
    "for key, value in values.items():\n",
    "    ttk.Radiobutton(app, text= key, variable=graphs, value = value,font='bold').\\\n",
    "        place(x=40,y=y)\n",
    "    y += 60    "
   ]
  },
  {
   "cell_type": "code",
   "execution_count": null,
   "metadata": {},
   "outputs": [],
   "source": [
    "\n",
    "col1 = ttk.Variable(app)\n",
    "values = ['age']\n",
    "col1.set(values[0])\n",
    "\n",
    "\n",
    "### Option Menu 2\n",
    "col2 = ttk.Variable(app)\n",
    "values = cols\n",
    "col2.set(values[0])\n",
    "ttk.Label(app, text = 'Attribute',bg=\"RED\", fg=\"YELLOW\",font=(\"Times New Roman\", 25)).place(x=430,y=100)\n",
    "w=ttk.OptionMenu(app, col2, *values).place(x=430,y=150)\n"
   ]
  },
  {
   "cell_type": "code",
   "execution_count": null,
   "metadata": {},
   "outputs": [],
   "source": [
    "## Canvas\n",
    "cnv = ttk.Canvas(app, width=700, height=400)\n",
    "cnv.place(x=170, y=300)\n",
    "\n",
    "## Label\n",
    "result = ttk.Variable(app)\n",
    "ttk.Label(app, textvariable=result,font='bold').place(x=300, y=270)"
   ]
  },
  {
   "cell_type": "code",
   "execution_count": null,
   "metadata": {},
   "outputs": [],
   "source": [
    "def show():\n",
    "    # print(col1.get(),col2.get(),col3.get())\n",
    "    global img\n",
    "    global cnv\n",
    "    column1=col1.get()\n",
    "    column2=col2.get()\n",
    "\n",
    "\n",
    "    fig=plt.figure(figsize=(7,4))\n",
    "    eval(graphs.get().format(col1=column1,col2=column2))\n",
    "    fig.savefig(\"graph.png\")\n",
    "    img=ImageTk.PhotoImage(Image.open('graph.png').resize((700,400)))\n",
    "    cnv.create_image(0,0,anchor=ttk.NW,image=img)   \n",
    "    \n",
    "\n",
    "ttk.Button(app,text='show',command=show,font='bold').place(x=710,y=100)\n"
   ]
  },
  {
   "cell_type": "code",
   "execution_count": null,
   "metadata": {},
   "outputs": [],
   "source": [
    "app.mainloop()"
   ]
  },
  {
   "cell_type": "code",
   "execution_count": null,
   "metadata": {},
   "outputs": [],
   "source": []
  },
  {
   "cell_type": "code",
   "execution_count": null,
   "metadata": {},
   "outputs": [],
   "source": [
    "type(INC_GRAPH)"
   ]
  },
  {
   "cell_type": "code",
   "execution_count": null,
   "metadata": {},
   "outputs": [],
   "source": []
  }
 ],
 "metadata": {
  "kernelspec": {
   "display_name": "Python 3.9.12 ('base')",
   "language": "python",
   "name": "python3"
  },
  "language_info": {
   "codemirror_mode": {
    "name": "ipython",
    "version": 3
   },
   "file_extension": ".py",
   "mimetype": "text/x-python",
   "name": "python",
   "nbconvert_exporter": "python",
   "pygments_lexer": "ipython3",
   "version": "3.9.12"
  },
  "orig_nbformat": 4,
  "vscode": {
   "interpreter": {
    "hash": "c4415819f9a6ac8d4b519845af7d69860482377d788ef20cf1d264f31097f06c"
   }
  }
 },
 "nbformat": 4,
 "nbformat_minor": 2
}
